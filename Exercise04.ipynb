{
 "cells": [
  {
   "cell_type": "code",
   "execution_count": 1,
   "id": "ahead-sympathy",
   "metadata": {},
   "outputs": [],
   "source": [
    "using Plots\n",
    "using Random\n",
    "using DataStructures\n",
    "#using ColorShemes\n",
    "#using SparseArrays\n",
    "#using StatsBase\n",
    "#using Statistics\n",
    "#using DataFrames\n",
    "#using StatsPlots\n",
    "#using DelimitedFiles"
   ]
  },
  {
   "cell_type": "code",
   "execution_count": 23,
   "id": "generous-rally",
   "metadata": {},
   "outputs": [
    {
     "data": {
      "text/plain": [
       "plot_lattice (generic function with 1 method)"
      ]
     },
     "execution_count": 23,
     "metadata": {},
     "output_type": "execute_result"
    }
   ],
   "source": [
    "function generate_lattice(n::Integer, p::Real)\n",
    "    Random.seed!(42)\n",
    "    lat = zeros(Int64, n+2, n+2)\n",
    "    lat[2:end-1, 2:end-1] = Int8.(rand(n, n) .< p)\n",
    "    return lat\n",
    "end\n",
    "\n",
    "function plot_lattice(lat::Matrix)\n",
    "    m = maximum(lat) + 1\n",
    "    colors = [:white, :green, :red, :black][1:m]\n",
    "    heatmap(lat[2:end-1, 2:end-1], c = palette(colors), legend = :none)\n",
    "    plot!(lims=(.5,size(lat)[1]-1.5))\n",
    "    plot!(showaxis = false, ticks = false, aspect_ratio = :equal)\n",
    "    #savefig(\"lattice\")\n",
    "end"
   ]
  },
  {
   "cell_type": "markdown",
   "id": "unique-arrest",
   "metadata": {},
   "source": [
    "## Task 1\n"
   ]
  },
  {
   "cell_type": "code",
   "execution_count": 3,
   "id": "tracked-ferry",
   "metadata": {},
   "outputs": [
    {
     "data": {
      "text/plain": [
       "hoshen_Koppelman! (generic function with 1 method)"
      ]
     },
     "execution_count": 3,
     "metadata": {},
     "output_type": "execute_result"
    }
   ],
   "source": [
    "\"\"\"\n",
    "we implement the Hoshen-Kopelman algorithm which labels all clusters and outputs the size of each\n",
    "\"\"\"\n",
    "\n",
    "    \n",
    "\n",
    "function hoshen_Koppelman!(L::Matrix)\n",
    "    M = Array{Int64}(undef, 1)\n",
    "    M[1] = 0 # array which stores the size of each cluster which has index = cluster-label\n",
    "    K = 1\n",
    "    ende = size(L,1)-1\n",
    "    \n",
    "    for j in 2:ende\n",
    "        for i in 2:ende\n",
    "            if L[j,i] == 1\n",
    "    \n",
    "                k1 = L[j-1,i]\n",
    "                k2 = L[j,i-1]\n",
    "                if k1>1\n",
    "                    while(M[k1]<0)\n",
    "                        k1 = -M[k1]\n",
    "                    end\n",
    "                end\n",
    "                if k2>2\n",
    "                    while(M[k2]<0)\n",
    "                        k2 = -M[k2]\n",
    "                    end\n",
    "                end\n",
    "                if k1 == 0 && k2 == 0\n",
    "                    K+=1\n",
    "                    push!(M,1)\n",
    "                    L[j,i] = K\n",
    "                elseif k1 != 0 && k2 == 0\n",
    "                    L[j,i] = k1\n",
    "                    M[k1]+=1   \n",
    "                elseif k1 == 0 && k2 != 0\n",
    "                    L[j,i] = k2\n",
    "                    M[k2]+=1\n",
    "                elseif k1 == k2\n",
    "                    L[j,i] = k1\n",
    "                    M[k1]+=1   \n",
    "                else\n",
    "                    L[j,i] = k1\n",
    "                    M[k1] += 1 + M[k2]\n",
    "                    M[k2] = -k1\n",
    "                end\n",
    "            end       \n",
    "        end\n",
    "    end\n",
    "    return M\n",
    "end"
   ]
  },
  {
   "cell_type": "code",
   "execution_count": 4,
   "id": "attached-sucking",
   "metadata": {},
   "outputs": [
    {
     "data": {
      "text/plain": [
       "42-element Vector{Int64}:\n",
       "   0\n",
       "   1\n",
       "   1\n",
       "  -5\n",
       "  -8\n",
       "   1\n",
       "   2\n",
       " -22\n",
       "   5\n",
       "  -9\n",
       "  -5\n",
       "  -8\n",
       "  -8\n",
       "   ⋮\n",
       " -27\n",
       "  40\n",
       " -22\n",
       " -36\n",
       "   1\n",
       "  15\n",
       "   5\n",
       "   2\n",
       "   6\n",
       " -36\n",
       "   1\n",
       "   3"
      ]
     },
     "execution_count": 4,
     "metadata": {},
     "output_type": "execute_result"
    }
   ],
   "source": [
    "test = generate_lattice(20,0.592)\n",
    "M = hoshen_Koppelman!(test)"
   ]
  },
  {
   "cell_type": "markdown",
   "id": "plain-referral",
   "metadata": {},
   "source": [
    "## Task 2"
   ]
  },
  {
   "cell_type": "code",
   "execution_count": 5,
   "id": "ancient-saskatchewan",
   "metadata": {},
   "outputs": [
    {
     "data": {
      "text/plain": [
       "get_Nₛ (generic function with 1 method)"
      ]
     },
     "execution_count": 5,
     "metadata": {},
     "output_type": "execute_result"
    }
   ],
   "source": [
    "function get_Nₛ(M)\n",
    "    M[M.<1] .= 0\n",
    "    Nₛ = []\n",
    "    for s in 1:maximum(M)\n",
    "        push!(Nₛ,count(i->(i==s),M))\n",
    "    end\n",
    "    return Nₛ\n",
    "end\n",
    "        \n",
    "        "
   ]
  },
  {
   "cell_type": "code",
   "execution_count": 53,
   "id": "nominated-annual",
   "metadata": {},
   "outputs": [
    {
     "data": {
      "image/png": "[encoded data removed]"
     },
     "execution_count": 53,
     "metadata": {},
     "output_type": "execute_result"
    }
   ],
   "source": [
    "L = 400\n",
    "p = 0.596\n",
    "test = generate_lattice(L,p)\n",
    "M = hoshen_Koppelman!(test)\n",
    "\n",
    "Nₛ = get_Nₛ(M)\n",
    "nₛ = Nₛ ./ L^2\n",
    "\n",
    "M[M.<1] .= 0\n",
    "x = LinRange(2,25,24)\n",
    "lin = LinRange(2,25,100)\n",
    "\n",
    "\n",
    "pyplot()\n",
    "\n",
    "\n",
    "histogram(M, bins=2:100,label = \"p = $p\",xlims=(2,25))\n",
    "scatter!(x,Nₛ[2:25],label = \"nₛ for p = $p\")\n",
    "plot!(title=\"cluster-size distribution\",xlabel = \"s\",ylabel = \"n(s)\")\n",
    "\n",
    "\n",
    "\n",
    "\n",
    "\n",
    "\n",
    "\n",
    "    \n",
    "    \n",
    "    \n",
    "    \n"
   ]
  },
  {
   "cell_type": "code",
   "execution_count": 25,
   "id": "binary-barbados",
   "metadata": {},
   "outputs": [
    {
     "name": "stdout",
     "output_type": "stream",
     "text": [
      "[0, -3, -4, -10, -4, 9, -4, 1, -6, 49, 4, -11, 2]\n",
      "[0, -3, -4, -10, -4, 9, -4, 1, -6, 49, 4, -11, 2]\n",
      "[0, 0, 0, 0, 0, 9, 0, 1, 0, 49, 4, 0, 2]\n",
      "[0, 0, 0, 0, 0, 9, 0, 1, 0, 49, 4, 0, 2]\n"
     ]
    }
   ],
   "source": []
  }
 ],
 "metadata": {
  "kernelspec": {
   "display_name": "Julia 1.6.2",
   "language": "julia",
   "name": "julia-1.6"
  },
  "language_info": {
   "file_extension": ".jl",
   "mimetype": "application/julia",
   "name": "julia",
   "version": "1.6.2"
  }
 },
 "nbformat": 4,
 "nbformat_minor": 5
}
